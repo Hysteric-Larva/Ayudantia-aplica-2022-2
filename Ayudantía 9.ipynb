{
 "cells": [
  {
   "cell_type": "markdown",
   "metadata": {
    "colab_type": "text",
    "id": "1e9BGw_SEwkC"
   },
   "source": [
    "# Ayudantía 9\n",
    "Dado el siguiente conjunto de transacciones:\n",
    "\n",
    "* Muestre todos los **itemset frecuentes** usando el algoritmo *Apriori* considerando un soporte mínimo $\\mathbf{minsup}=0.2$. ¿Cuál es el itemset más frecuente?. ¿Qué razón tiene su alta frecuencia?.\n",
    "* ¿Qué reglas superan el umbral de confianza mínima $\\mathbf{minconf}=0.6$?. Comente los resultados obtenidos.\n",
    "* Graficar el scatter plot *Support* vs *Confidence*. Interpretar el gráfico. Compare la regla con mayor Soporte versus la regla con mayor Confianza. ¿Qué puede concluir al respecto?.\n"
   ]
  },
  {
   "cell_type": "code",
   "execution_count": 1,
   "metadata": {
    "colab": {},
    "colab_type": "code",
    "id": "kKFOn_dJEK9V"
   },
   "outputs": [],
   "source": [
    "import pandas as pd\n",
    "import numpy as np\n",
    "from mlxtend.frequent_patterns import apriori, association_rules\n",
    "import matplotlib.pyplot as plt"
   ]
  },
  {
   "cell_type": "code",
   "execution_count": 2,
   "metadata": {
    "colab": {
     "base_uri": "https://localhost:8080/",
     "height": 221
    },
    "colab_type": "code",
    "id": "ul-mdR-REeiz",
    "outputId": "1ec8fb7c-52af-47c7-f95a-6d061e634998"
   },
   "outputs": [
    {
     "name": "stdout",
     "output_type": "stream",
     "text": [
      "Número de transacciones: 315\n"
     ]
    },
    {
     "data": {
      "text/html": [
       "<div>\n",
       "<style scoped>\n",
       "    .dataframe tbody tr th:only-of-type {\n",
       "        vertical-align: middle;\n",
       "    }\n",
       "\n",
       "    .dataframe tbody tr th {\n",
       "        vertical-align: top;\n",
       "    }\n",
       "\n",
       "    .dataframe thead th {\n",
       "        text-align: right;\n",
       "    }\n",
       "</style>\n",
       "<table border=\"1\" class=\"dataframe\">\n",
       "  <thead>\n",
       "    <tr style=\"text-align: right;\">\n",
       "      <th></th>\n",
       "      <th>0</th>\n",
       "      <th>1</th>\n",
       "      <th>2</th>\n",
       "      <th>3</th>\n",
       "      <th>4</th>\n",
       "      <th>5</th>\n",
       "      <th>6</th>\n",
       "    </tr>\n",
       "  </thead>\n",
       "  <tbody>\n",
       "    <tr>\n",
       "      <th>0</th>\n",
       "      <td>Pan</td>\n",
       "      <td>Vino</td>\n",
       "      <td>Huevos</td>\n",
       "      <td>Carne</td>\n",
       "      <td>Queso</td>\n",
       "      <td>Lápiz</td>\n",
       "      <td>Pañales</td>\n",
       "    </tr>\n",
       "    <tr>\n",
       "      <th>1</th>\n",
       "      <td>Pan</td>\n",
       "      <td>Queso</td>\n",
       "      <td>Carne</td>\n",
       "      <td>Pañales</td>\n",
       "      <td>Vino</td>\n",
       "      <td>Leche</td>\n",
       "      <td>Lápiz</td>\n",
       "    </tr>\n",
       "    <tr>\n",
       "      <th>2</th>\n",
       "      <td>Queso</td>\n",
       "      <td>Carne</td>\n",
       "      <td>Huevos</td>\n",
       "      <td>Leche</td>\n",
       "      <td>Vino</td>\n",
       "      <td>NaN</td>\n",
       "      <td>NaN</td>\n",
       "    </tr>\n",
       "    <tr>\n",
       "      <th>3</th>\n",
       "      <td>Queso</td>\n",
       "      <td>Carne</td>\n",
       "      <td>Huevos</td>\n",
       "      <td>Leche</td>\n",
       "      <td>Vino</td>\n",
       "      <td>NaN</td>\n",
       "      <td>NaN</td>\n",
       "    </tr>\n",
       "    <tr>\n",
       "      <th>4</th>\n",
       "      <td>Carne</td>\n",
       "      <td>Lápiz</td>\n",
       "      <td>Vino</td>\n",
       "      <td>NaN</td>\n",
       "      <td>NaN</td>\n",
       "      <td>NaN</td>\n",
       "      <td>NaN</td>\n",
       "    </tr>\n",
       "  </tbody>\n",
       "</table>\n",
       "</div>"
      ],
      "text/plain": [
       "       0      1       2        3      4      5        6\n",
       "0    Pan   Vino  Huevos    Carne  Queso  Lápiz  Pañales\n",
       "1    Pan  Queso   Carne  Pañales   Vino  Leche    Lápiz\n",
       "2  Queso  Carne  Huevos    Leche   Vino    NaN      NaN\n",
       "3  Queso  Carne  Huevos    Leche   Vino    NaN      NaN\n",
       "4  Carne  Lápiz    Vino      NaN    NaN    NaN      NaN"
      ]
     },
     "execution_count": 2,
     "metadata": {},
     "output_type": "execute_result"
    }
   ],
   "source": [
    "df = pd.read_csv('retail_dataset.csv', sep=',')\n",
    "print (\"Número de transacciones:\", df.shape[0])\n",
    "df.head()"
   ]
  },
  {
   "cell_type": "code",
   "execution_count": 3,
   "metadata": {
    "colab": {
     "base_uri": "https://localhost:8080/",
     "height": 34
    },
    "colab_type": "code",
    "id": "FdYi1Cl3E7vy",
    "outputId": "26ac2a87-d378-4c66-c332-eb46d56476c0"
   },
   "outputs": [
    {
     "name": "stdout",
     "output_type": "stream",
     "text": [
      "9 Items: ['Pan' 'Queso' 'Carne' 'Huevos' 'Vino' 'Bagel' 'Lápiz' 'Pañales' 'Leche']\n"
     ]
    }
   ],
   "source": [
    "items = (df['0'].unique())\n",
    "print(str(len(items)) + \" Items:\", items)\n",
    "dataframe_binario = df.stack().str.get_dummies().sum(level=0)"
   ]
  },
  {
   "cell_type": "markdown",
   "metadata": {
    "colab_type": "text",
    "id": "El-Zg8l5Nddv"
   },
   "source": [
    "**Generar itemsets frecuentes**\n",
    "\n",
    "La función  ```apriori``` recibe un dataframe binario (compuesto por 0 y 1).\n",
    "\n"
   ]
  },
  {
   "cell_type": "code",
   "execution_count": 4,
   "metadata": {
    "colab": {},
    "colab_type": "code",
    "id": "nckCIh5rLrlU"
   },
   "outputs": [
    {
     "name": "stdout",
     "output_type": "stream",
     "text": [
      "     support                itemsets\n",
      "0   0.425397                 (Bagel)\n",
      "1   0.476190                 (Carne)\n",
      "2   0.438095                (Huevos)\n",
      "3   0.501587                 (Leche)\n",
      "4   0.361905                 (Lápiz)\n",
      "5   0.504762                   (Pan)\n",
      "6   0.406349               (Pañales)\n",
      "7   0.501587                 (Queso)\n",
      "8   0.438095                  (Vino)\n",
      "9   0.225397          (Bagel, Leche)\n",
      "10  0.279365            (Bagel, Pan)\n",
      "11  0.266667         (Carne, Huevos)\n",
      "12  0.244444          (Carne, Leche)\n",
      "13  0.206349            (Carne, Pan)\n",
      "14  0.323810          (Queso, Carne)\n",
      "15  0.250794           (Carne, Vino)\n",
      "16  0.244444         (Leche, Huevos)\n",
      "17  0.298413         (Queso, Huevos)\n",
      "18  0.241270          (Vino, Huevos)\n",
      "19  0.279365            (Leche, Pan)\n",
      "20  0.304762          (Queso, Leche)\n",
      "21  0.219048           (Leche, Vino)\n",
      "22  0.200000            (Lápiz, Pan)\n",
      "23  0.200000          (Queso, Lápiz)\n",
      "24  0.200000           (Vino, Lápiz)\n",
      "25  0.231746          (Pañales, Pan)\n",
      "26  0.238095            (Queso, Pan)\n",
      "27  0.244444             (Vino, Pan)\n",
      "28  0.200000        (Queso, Pañales)\n",
      "29  0.234921         (Vino, Pañales)\n",
      "30  0.269841           (Queso, Vino)\n",
      "31  0.215873  (Queso, Carne, Huevos)\n",
      "32  0.203175   (Queso, Carne, Leche)\n"
     ]
    }
   ],
   "source": [
    "itemset_frecuentes = apriori(dataframe_binario, min_support=0.2, use_colnames=True)\n",
    "print(itemset_frecuentes)"
   ]
  },
  {
   "cell_type": "markdown",
   "metadata": {},
   "source": [
    "En lo que sigue veremos el itemset mas frecuente cuyo valor está dado por el siguiente comando:"
   ]
  },
  {
   "cell_type": "code",
   "execution_count": 5,
   "metadata": {},
   "outputs": [
    {
     "data": {
      "text/plain": [
       "0.5047619047619047"
      ]
     },
     "execution_count": 5,
     "metadata": {},
     "output_type": "execute_result"
    }
   ],
   "source": [
    "itemset_frecuentes.max(0)[0]"
   ]
  },
  {
   "cell_type": "markdown",
   "metadata": {},
   "source": [
    "Aqui simplemnente fijaremos support=0.5 para ver a que objeto corresponde dicho valor"
   ]
  },
  {
   "cell_type": "code",
   "execution_count": 6,
   "metadata": {},
   "outputs": [
    {
     "data": {
      "text/html": [
       "<div>\n",
       "<style scoped>\n",
       "    .dataframe tbody tr th:only-of-type {\n",
       "        vertical-align: middle;\n",
       "    }\n",
       "\n",
       "    .dataframe tbody tr th {\n",
       "        vertical-align: top;\n",
       "    }\n",
       "\n",
       "    .dataframe thead th {\n",
       "        text-align: right;\n",
       "    }\n",
       "</style>\n",
       "<table border=\"1\" class=\"dataframe\">\n",
       "  <thead>\n",
       "    <tr style=\"text-align: right;\">\n",
       "      <th></th>\n",
       "      <th>support</th>\n",
       "      <th>itemsets</th>\n",
       "    </tr>\n",
       "  </thead>\n",
       "  <tbody>\n",
       "    <tr>\n",
       "      <th>3</th>\n",
       "      <td>0.501587</td>\n",
       "      <td>(Leche)</td>\n",
       "    </tr>\n",
       "    <tr>\n",
       "      <th>5</th>\n",
       "      <td>0.504762</td>\n",
       "      <td>(Pan)</td>\n",
       "    </tr>\n",
       "    <tr>\n",
       "      <th>7</th>\n",
       "      <td>0.501587</td>\n",
       "      <td>(Queso)</td>\n",
       "    </tr>\n",
       "  </tbody>\n",
       "</table>\n",
       "</div>"
      ],
      "text/plain": [
       "    support itemsets\n",
       "3  0.501587  (Leche)\n",
       "5  0.504762    (Pan)\n",
       "7  0.501587  (Queso)"
      ]
     },
     "execution_count": 6,
     "metadata": {},
     "output_type": "execute_result"
    }
   ],
   "source": [
    "itemset_frecuentes.loc[itemset_frecuentes[\"support\"]>=0.5]"
   ]
  },
  {
   "cell_type": "markdown",
   "metadata": {},
   "source": [
    "Como se puede observar, el itemset más frecuente es el del pan y la razón más probable de ello puede venir del hecho de que la mayor parte de nuestros conjuntos son cosas que se le echa al pan o se comparte con pan en su mayoría."
   ]
  },
  {
   "cell_type": "markdown",
   "metadata": {
    "colab_type": "text",
    "id": "hxrYObGRTM0u"
   },
   "source": [
    "**Reglas interesantes**"
   ]
  },
  {
   "cell_type": "code",
   "execution_count": 7,
   "metadata": {
    "colab": {},
    "colab_type": "code",
    "id": "ARRqK3GrOzIe"
   },
   "outputs": [
    {
     "data": {
      "text/html": [
       "<div>\n",
       "<style scoped>\n",
       "    .dataframe tbody tr th:only-of-type {\n",
       "        vertical-align: middle;\n",
       "    }\n",
       "\n",
       "    .dataframe tbody tr th {\n",
       "        vertical-align: top;\n",
       "    }\n",
       "\n",
       "    .dataframe thead th {\n",
       "        text-align: right;\n",
       "    }\n",
       "</style>\n",
       "<table border=\"1\" class=\"dataframe\">\n",
       "  <thead>\n",
       "    <tr style=\"text-align: right;\">\n",
       "      <th></th>\n",
       "      <th>antecedents</th>\n",
       "      <th>consequents</th>\n",
       "      <th>antecedent support</th>\n",
       "      <th>consequent support</th>\n",
       "      <th>support</th>\n",
       "      <th>confidence</th>\n",
       "      <th>lift</th>\n",
       "      <th>leverage</th>\n",
       "      <th>conviction</th>\n",
       "    </tr>\n",
       "  </thead>\n",
       "  <tbody>\n",
       "    <tr>\n",
       "      <th>0</th>\n",
       "      <td>(Bagel)</td>\n",
       "      <td>(Pan)</td>\n",
       "      <td>0.425397</td>\n",
       "      <td>0.504762</td>\n",
       "      <td>0.279365</td>\n",
       "      <td>0.656716</td>\n",
       "      <td>1.301042</td>\n",
       "      <td>0.064641</td>\n",
       "      <td>1.442650</td>\n",
       "    </tr>\n",
       "    <tr>\n",
       "      <th>1</th>\n",
       "      <td>(Huevos)</td>\n",
       "      <td>(Carne)</td>\n",
       "      <td>0.438095</td>\n",
       "      <td>0.476190</td>\n",
       "      <td>0.266667</td>\n",
       "      <td>0.608696</td>\n",
       "      <td>1.278261</td>\n",
       "      <td>0.058050</td>\n",
       "      <td>1.338624</td>\n",
       "    </tr>\n",
       "    <tr>\n",
       "      <th>2</th>\n",
       "      <td>(Queso)</td>\n",
       "      <td>(Carne)</td>\n",
       "      <td>0.501587</td>\n",
       "      <td>0.476190</td>\n",
       "      <td>0.323810</td>\n",
       "      <td>0.645570</td>\n",
       "      <td>1.355696</td>\n",
       "      <td>0.084958</td>\n",
       "      <td>1.477891</td>\n",
       "    </tr>\n",
       "    <tr>\n",
       "      <th>3</th>\n",
       "      <td>(Carne)</td>\n",
       "      <td>(Queso)</td>\n",
       "      <td>0.476190</td>\n",
       "      <td>0.501587</td>\n",
       "      <td>0.323810</td>\n",
       "      <td>0.680000</td>\n",
       "      <td>1.355696</td>\n",
       "      <td>0.084958</td>\n",
       "      <td>1.557540</td>\n",
       "    </tr>\n",
       "    <tr>\n",
       "      <th>4</th>\n",
       "      <td>(Huevos)</td>\n",
       "      <td>(Queso)</td>\n",
       "      <td>0.438095</td>\n",
       "      <td>0.501587</td>\n",
       "      <td>0.298413</td>\n",
       "      <td>0.681159</td>\n",
       "      <td>1.358008</td>\n",
       "      <td>0.078670</td>\n",
       "      <td>1.563203</td>\n",
       "    </tr>\n",
       "    <tr>\n",
       "      <th>5</th>\n",
       "      <td>(Queso)</td>\n",
       "      <td>(Leche)</td>\n",
       "      <td>0.501587</td>\n",
       "      <td>0.501587</td>\n",
       "      <td>0.304762</td>\n",
       "      <td>0.607595</td>\n",
       "      <td>1.211344</td>\n",
       "      <td>0.053172</td>\n",
       "      <td>1.270148</td>\n",
       "    </tr>\n",
       "    <tr>\n",
       "      <th>6</th>\n",
       "      <td>(Leche)</td>\n",
       "      <td>(Queso)</td>\n",
       "      <td>0.501587</td>\n",
       "      <td>0.501587</td>\n",
       "      <td>0.304762</td>\n",
       "      <td>0.607595</td>\n",
       "      <td>1.211344</td>\n",
       "      <td>0.053172</td>\n",
       "      <td>1.270148</td>\n",
       "    </tr>\n",
       "    <tr>\n",
       "      <th>7</th>\n",
       "      <td>(Vino)</td>\n",
       "      <td>(Queso)</td>\n",
       "      <td>0.438095</td>\n",
       "      <td>0.501587</td>\n",
       "      <td>0.269841</td>\n",
       "      <td>0.615942</td>\n",
       "      <td>1.227986</td>\n",
       "      <td>0.050098</td>\n",
       "      <td>1.297754</td>\n",
       "    </tr>\n",
       "    <tr>\n",
       "      <th>8</th>\n",
       "      <td>(Queso, Carne)</td>\n",
       "      <td>(Huevos)</td>\n",
       "      <td>0.323810</td>\n",
       "      <td>0.438095</td>\n",
       "      <td>0.215873</td>\n",
       "      <td>0.666667</td>\n",
       "      <td>1.521739</td>\n",
       "      <td>0.074014</td>\n",
       "      <td>1.685714</td>\n",
       "    </tr>\n",
       "    <tr>\n",
       "      <th>9</th>\n",
       "      <td>(Queso, Huevos)</td>\n",
       "      <td>(Carne)</td>\n",
       "      <td>0.298413</td>\n",
       "      <td>0.476190</td>\n",
       "      <td>0.215873</td>\n",
       "      <td>0.723404</td>\n",
       "      <td>1.519149</td>\n",
       "      <td>0.073772</td>\n",
       "      <td>1.893773</td>\n",
       "    </tr>\n",
       "    <tr>\n",
       "      <th>10</th>\n",
       "      <td>(Carne, Huevos)</td>\n",
       "      <td>(Queso)</td>\n",
       "      <td>0.266667</td>\n",
       "      <td>0.501587</td>\n",
       "      <td>0.215873</td>\n",
       "      <td>0.809524</td>\n",
       "      <td>1.613924</td>\n",
       "      <td>0.082116</td>\n",
       "      <td>2.616667</td>\n",
       "    </tr>\n",
       "    <tr>\n",
       "      <th>11</th>\n",
       "      <td>(Queso, Carne)</td>\n",
       "      <td>(Leche)</td>\n",
       "      <td>0.323810</td>\n",
       "      <td>0.501587</td>\n",
       "      <td>0.203175</td>\n",
       "      <td>0.627451</td>\n",
       "      <td>1.250931</td>\n",
       "      <td>0.040756</td>\n",
       "      <td>1.337845</td>\n",
       "    </tr>\n",
       "    <tr>\n",
       "      <th>12</th>\n",
       "      <td>(Queso, Leche)</td>\n",
       "      <td>(Carne)</td>\n",
       "      <td>0.304762</td>\n",
       "      <td>0.476190</td>\n",
       "      <td>0.203175</td>\n",
       "      <td>0.666667</td>\n",
       "      <td>1.400000</td>\n",
       "      <td>0.058050</td>\n",
       "      <td>1.571429</td>\n",
       "    </tr>\n",
       "    <tr>\n",
       "      <th>13</th>\n",
       "      <td>(Carne, Leche)</td>\n",
       "      <td>(Queso)</td>\n",
       "      <td>0.244444</td>\n",
       "      <td>0.501587</td>\n",
       "      <td>0.203175</td>\n",
       "      <td>0.831169</td>\n",
       "      <td>1.657077</td>\n",
       "      <td>0.080564</td>\n",
       "      <td>2.952137</td>\n",
       "    </tr>\n",
       "  </tbody>\n",
       "</table>\n",
       "</div>"
      ],
      "text/plain": [
       "        antecedents consequents  antecedent support  consequent support  \\\n",
       "0           (Bagel)       (Pan)            0.425397            0.504762   \n",
       "1          (Huevos)     (Carne)            0.438095            0.476190   \n",
       "2           (Queso)     (Carne)            0.501587            0.476190   \n",
       "3           (Carne)     (Queso)            0.476190            0.501587   \n",
       "4          (Huevos)     (Queso)            0.438095            0.501587   \n",
       "5           (Queso)     (Leche)            0.501587            0.501587   \n",
       "6           (Leche)     (Queso)            0.501587            0.501587   \n",
       "7            (Vino)     (Queso)            0.438095            0.501587   \n",
       "8    (Queso, Carne)    (Huevos)            0.323810            0.438095   \n",
       "9   (Queso, Huevos)     (Carne)            0.298413            0.476190   \n",
       "10  (Carne, Huevos)     (Queso)            0.266667            0.501587   \n",
       "11   (Queso, Carne)     (Leche)            0.323810            0.501587   \n",
       "12   (Queso, Leche)     (Carne)            0.304762            0.476190   \n",
       "13   (Carne, Leche)     (Queso)            0.244444            0.501587   \n",
       "\n",
       "     support  confidence      lift  leverage  conviction  \n",
       "0   0.279365    0.656716  1.301042  0.064641    1.442650  \n",
       "1   0.266667    0.608696  1.278261  0.058050    1.338624  \n",
       "2   0.323810    0.645570  1.355696  0.084958    1.477891  \n",
       "3   0.323810    0.680000  1.355696  0.084958    1.557540  \n",
       "4   0.298413    0.681159  1.358008  0.078670    1.563203  \n",
       "5   0.304762    0.607595  1.211344  0.053172    1.270148  \n",
       "6   0.304762    0.607595  1.211344  0.053172    1.270148  \n",
       "7   0.269841    0.615942  1.227986  0.050098    1.297754  \n",
       "8   0.215873    0.666667  1.521739  0.074014    1.685714  \n",
       "9   0.215873    0.723404  1.519149  0.073772    1.893773  \n",
       "10  0.215873    0.809524  1.613924  0.082116    2.616667  \n",
       "11  0.203175    0.627451  1.250931  0.040756    1.337845  \n",
       "12  0.203175    0.666667  1.400000  0.058050    1.571429  \n",
       "13  0.203175    0.831169  1.657077  0.080564    2.952137  "
      ]
     },
     "execution_count": 7,
     "metadata": {},
     "output_type": "execute_result"
    }
   ],
   "source": [
    "reglas_interesantes = association_rules(itemset_frecuentes, metric=\"confidence\", min_threshold=0.6)\n",
    "reglas_interesantes"
   ]
  },
  {
   "cell_type": "markdown",
   "metadata": {},
   "source": [
    "Como se dijo antes, todo lo que se compra en general es para el pan o pan. Siendo franco, me sorprende mucho ver la combinacion vino+queso "
   ]
  },
  {
   "cell_type": "markdown",
   "metadata": {
    "colab_type": "text",
    "id": "xqV6-_V0XCd_"
   },
   "source": [
    "**Scatter Plot**"
   ]
  },
  {
   "cell_type": "code",
   "execution_count": 8,
   "metadata": {
    "colab": {},
    "colab_type": "code",
    "id": "Nqwmym4ZXCmt"
   },
   "outputs": [
    {
     "data": {
      "image/png": "[encoded data removed]",
      "text/plain": [
       "<Figure size 432x288 with 1 Axes>"
      ]
     },
     "metadata": {
      "needs_background": "light"
     },
     "output_type": "display_data"
    }
   ],
   "source": [
    "plt.scatter(reglas_interesantes['support'], reglas_interesantes['confidence'])\n",
    "plt.xlabel('Soporte')\n",
    "plt.ylabel('Confianza')\n",
    "plt.title('Soporte vs Confianza')\n",
    "plt.show()"
   ]
  },
  {
   "cell_type": "markdown",
   "metadata": {},
   "source": [
    "La regla de soporte ve cuan  frecuentemente una regla X->Y es aplicable al conjunto de datos. Viendo los datos, a simple vista los resultados se ven afectados principalmente por la cantidad de datos que hay. Si bien trabajamos con un conjunto de datos de  315 transacciones de 9 objetos distintos, las combinaciones que se pueden dar son de la forma\n",
    "\n",
    "- Comprando 1 objeto distinto x cantidad: 9 combinaciones.\n",
    "- Comprando 2 objetos distintos x cantidad: $9*8$ combinaciones.\n",
    "- Comprando 3 objetos distintos x cantidad: $9*8*7$ combinaciones.\n",
    "- Comprando 4 objetos distintos x cantidad: $9*8*7*6$ combinaciones.\n",
    "- Comprando 5 objetos distintos x cantidad: $9*8*7*6*5$ combinaciones.\n",
    "- Comprando 6 objetos distintos x cantidad: $9*8*7*6*5*4$ combinaciones.\n",
    "- Comprando 7 objetos distintos x cantidad: $9*8*7*6*5*4*3$ combinaciones.\n",
    "- Comprando 8 objetos distintos x cantidad: $9*8*7*6*5*4*3*2$ combinaciones.\n",
    "- Comprando 9 objetos distintos x cantidad: $9*8*7*6*5*4*3*2*1$ combinaciones.\n",
    "\n",
    "Los que al ser casos independientes se tiene un total de 986409 casos posibles, mientras que trabajamos con solo 315 transacciones. Esto último hace notar que son muy pocas las combinaciones que se pueden dar para estas transacciones y en partícular que se repitan. Es por ello que los valores dificilmente alcanzarán un valor sobre el 0.5 bajo esta regla.\n",
    "\n",
    "Por otra parte, la regla de confiansa (X->Y) ve la frecuencia de que aparezca un conjunto Y en una transacción que contenga a X por lo que otorga una vista más local de la información que se tiene y mejores resultados en este caso (por ser cercano a 1 y asi relacionar la data  ). De este modo se concluye que la regla soporte sirve para grandes masas de datos o bien para asegurarse que nuestro modelo no caiga en una especie de overfitting respecto a lo que puede mostrar la regla de confiansa, pues la data que tenemos puede ser pura coincidencia con el periodo que se tomó como para concluir que es una verdad para lo que es la situación."
   ]
  },
  {
   "cell_type": "code",
   "execution_count": null,
   "metadata": {},
   "outputs": [],
   "source": []
  }
 ],
 "metadata": {
  "colab": {
   "collapsed_sections": [],
   "name": "INF391_T8.ipynb",
   "provenance": [],
   "toc_visible": true
  },
  "kernelspec": {
   "display_name": "Python 3",
   "language": "python",
   "name": "python3"
  },
  "language_info": {
   "codemirror_mode": {
    "name": "ipython",
    "version": 3
   },
   "file_extension": ".py",
   "mimetype": "text/x-python",
   "name": "python",
   "nbconvert_exporter": "python",
   "pygments_lexer": "ipython3",
   "version": "3.8.8"
  }
 },
 "nbformat": 4,
 "nbformat_minor": 1
}
